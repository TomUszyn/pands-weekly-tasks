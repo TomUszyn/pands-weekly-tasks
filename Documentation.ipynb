{
 "cells": [
  {
   "cell_type": "markdown",
   "metadata": {},
   "source": [
    "## Documentation for Weekly Tasks Repository.\n",
    "\n",
    "\n",
    "****"
   ]
  },
  {
   "cell_type": "markdown",
   "metadata": {},
   "source": [
    "This notebook is created to help understand how each program was developed and to give some research evidence, such as links to useful websites, which provide more information in the development field."
   ]
  },
  {
   "cell_type": "markdown",
   "metadata": {},
   "source": [
    "The following files will be the topic of discussion."
   ]
  },
  {
   "cell_type": "markdown",
   "metadata": {},
   "source": [
    "1. The program called [`helloworld.py`](helloworld.py).\n",
    "\n",
    "    This program is the simplest program that everyone creates, who started their own experience with Python as a programming language.\n",
    "\n",
    "    References:\n",
    "    * Information about this on [GeeksforGeeks website](https://www.tutorialspoint.com/python/python_hello_world.htm)."
   ]
  },
  {
   "cell_type": "markdown",
   "metadata": {},
   "source": [
    "2. The program called [`bank.py`](bank.py).\n",
    "\n",
    "    To write this program, we do some reseach to understand the basics of Python, including variables, data types and input/output \n",
    "    operations. We should understand how to perform basic arithmetic operations, adding two accounts and converting cents to \n",
    "    euros. We also need to know how to correctly format your output to display the total in euros. This can be done \n",
    "    using Python’s built-in format function or f-strings.\n",
    "\n",
    "    References:\n",
    "    * General information about coding in Python on [W3Schools website](https://www.w3schools.com/python/default.asp).           \n",
    "    * Information about how to print euro currency on [Stackoverflow website](https://stackoverflow.com/questions/39935857/how-can-i-print-a-euro-€-symbol-in-python).\n",
    "    * Information about Python's F-String on [Real Python website](https://realpython.com/python-f-strings/).   \n",
    "    * Information about Python operators on [W3Schools website](https://www.w3schools.com/python/python_operators.asp).\n",
    "    * Basic iformation about input, output and string formatting on [Real Python wesite](https://realpython.com/python-input-output/).                               \n",
    "\n"
   ]
  }
 ],
 "metadata": {
  "language_info": {
   "name": "python"
  }
 },
 "nbformat": 4,
 "nbformat_minor": 2
}
