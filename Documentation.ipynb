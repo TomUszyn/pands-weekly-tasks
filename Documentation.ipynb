{
 "cells": [
  {
   "cell_type": "markdown",
   "metadata": {},
   "source": [
    "## Documentation for Weekly Tasks Repository.\n",
    "\n",
    "\n",
    "****"
   ]
  },
  {
   "cell_type": "markdown",
   "metadata": {},
   "source": [
    "This notebook is created to help understand how each program was developed and to give some research evidence, such as links to useful websites, which provide more information in the development field."
   ]
  },
  {
   "cell_type": "markdown",
   "metadata": {},
   "source": [
    "The following files will be the topic of discussion."
   ]
  },
  {
   "cell_type": "markdown",
   "metadata": {},
   "source": [
    "1. The program called [`helloworld.py`](helloworld.py).\n",
    "\n",
    "    This program is the simplest program that everyone creates, who started their own experience with Python as a programming language.\n",
    "\n",
    "    References:\n",
    "    * Information about this on [GeeksforGeeks website](https://www.tutorialspoint.com/python/python_hello_world.htm)."
   ]
  }
 ],
 "metadata": {
  "language_info": {
   "name": "python"
  }
 },
 "nbformat": 4,
 "nbformat_minor": 2
}
