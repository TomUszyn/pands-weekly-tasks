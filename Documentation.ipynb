{
 "cells": [
  {
   "cell_type": "markdown",
   "metadata": {},
   "source": [
    "## Documentation for Weekly Tasks Repository.\n",
    "\n",
    "\n",
    "****"
   ]
  },
  {
   "cell_type": "markdown",
   "metadata": {},
   "source": [
    "This notebook is created to help understand how each program was developed and to give some research evidence, such as links to useful websites, which provide more information in the development field."
   ]
  },
  {
   "cell_type": "markdown",
   "metadata": {},
   "source": [
    "The following files will be the topic of discussion."
   ]
  },
  {
   "cell_type": "markdown",
   "metadata": {},
   "source": [
    "1. The program called [`helloworld.py`](helloworld.py).\n",
    "\n",
    "    This program is the simplest program that everyone creates, who started their own experience with Python as a programming language.\n",
    "\n",
    "    References:\n",
    "    * Information about this on [GeeksforGeeks website](https://www.tutorialspoint.com/python/python_hello_world.htm)."
   ]
  },
  {
   "cell_type": "markdown",
   "metadata": {},
   "source": [
    "2. The program called [`bank.py`](bank.py).\n",
    "\n",
    "    To write this program, we do some reseach to understand the basics of Python, including variables, data types and input/output operations. It is necessary to  understand how to perform basic arithmetic operations, adding two accounts and converting cents to euros. It is important to know how to correctly format the output to display the total in euros. This can be done using Python’s built-in format function or f-strings.\n",
    "\n",
    "    References:\n",
    "    * General information about coding in Python on [W3Schools website](https://www.w3schools.com/python/default.asp).           \n",
    "    * Information about how to print euro currency on [Stackoverflow website](https://stackoverflow.com/questions/39935857/how-can-i-print-a-euro-€-symbol-in-python).\n",
    "    * Information about Python's F-String on [Real Python website](https://realpython.com/python-f-strings/).   \n",
    "    * Information about Python operators on [W3Schools website](https://www.w3schools.com/python/python_operators.asp).\n",
    "    * Basic information about input, output and string formatting on [Real Python wesite](https://realpython.com/python-input-output/).                               \n",
    "\n"
   ]
  },
  {
   "cell_type": "markdown",
   "metadata": {},
   "source": [
    "3. The program called [`accounts.py`](accounts.py).\n",
    "\n",
    "    To write this program, are needed research to understand variables, data types and basic operators. Our task involves manipulating  strings, which requires string slicing and concatenation knowledge. String slicing is used to extract the portion of the string (in  this case, the last four digits), and concatenation is used to combine strings (in this case, 'X’s and the last four digits). The length of a String (len() function) in Python is used to get the number of characters in a string. it will be used to calculate the number of 'X’s needed. To find out the last four digits, negative indexing is used. \n",
    "    In the case of this program -1 refers to the last element, -2 refers to the second-to-last element, and so on. Omnit end index means the end of the sequence.\n",
    "\n",
    "    References:\n",
    "    * Information about string slicing on [Real Python website](https://realpython.com/lessons/string-slicing/).\n",
    "    * Information about string length on [W3Schools website](https://www.w3schools.com/python/gloss_python_string_length.asp).\n",
    "    * General information about coding in Python on [W3Schools website](https://www.w3schools.com/python/default.asp)."
   ]
  },
  {
   "cell_type": "markdown",
   "metadata": {},
   "source": [
    "4. The program called [`collatz.py`](collatz.py).\n",
    "\n",
    "    To write this program understanding of Collatz conjecture is needed. Understanding the concept of loops and conditional statements is necessary. While the loop is executed until the     current value is one. If the statement is used to check if the current value is even or odd. The modulo operator (%) is used to check   if the current value is even or odd. The floor division operator (//) divides the current value by two. The multiplication operator   (*) is used to multiply the current value by three. The addition operator (+) adds one to the current value. The end parameter of the     print() function is used to print the values in the same line.\n",
    "\n",
    "    References:\n",
    "    * Information about Collatz conjecture on [Wikipedia website](https://en.wikipedia.org/wiki/Collatz_conjecture).\n",
    "    * Information about Loops and Conditionals in PDF file Lecture_11.pdf from [Purdue University website](https://www.purdue.edu/hla/sites/varalalab/wp-content/uploads/sites/20/2018/04/Lecture_11.pdf).\n",
    "       "
   ]
  },
  {
   "cell_type": "markdown",
   "metadata": {},
   "source": [
    "5. The program called [`weekday.py`](weekday.py).\n",
    "\n",
    "    To write a program that outputs whether or not today is a weekday is needed to use the Python datetime module, which provides various functions to work with dates and times. One of the helpful functions in this case is weekday(). The function returns an integer related to the day of the week (in this case, Monday is 0, and Sunday is 6). This function checks whether the current date is a weekday or a weekend and prints a message accordingly. The addition operator (+) adds one to the current value. The end parameter of the print() function is used to print the values in the same line.\n",
    "\n",
    "    References:\n",
    "    * Information how to get the day of the week in Python on the [Pynative website](https://pynative.com/python-get-the-day-of-week/) or on [Programiz website](https://www.programiz.org/1340/python-code-to-get-day-of-week).\n",
    "    * Information about Python if...else Statement on [Programiz website](https://www.programiz.com/python-programming/if-elif-else).\n",
    "\n"
   ]
  },
  {
   "cell_type": "markdown",
   "metadata": {},
   "source": [
    "6. The program called [`squareroot.py`](squareroot.py).\n",
    "\n",
    "    Newton's method is a popular and effective numerical technique for finding the roots of a given function, including square roots. If someone needs to find the square root of a positive number (n), using Newton's method can be a good option. The method involves iteratively improving the initial guess until it converges to an accurate value. \n",
    "    \n",
    "    To use Newton's method for square root approximation, one needs to follow a few steps.\n",
    "    \n",
    "    First, an initial guess (x) needs to be made, which can be any positive value, but it's often set to 1 or n. \n",
    "    Then, an iterative update formula is used to update the guess, which is given by: \n",
    "    <br>$nextGuess = 0.5*(x + n/x)$ \n",
    "    <br>After each update, the difference between the current guess and the next guess is calculated. If the difference is within a specified tolerance level, the iteration stops. Otherwise, the process is repeated with the new guess until the tolerance level is met. \n",
    "    \n",
    "    To implement the algorithm, one needs to follow a few research and implementation steps. First, it's crucial to understand the mathematical basis of Newton's method for square root approximation and how the iterative process converges to the actual square root. Once this is done, a function can be written that takes the input number (n) and a tolerance level as arguments. The initial guess is set to 1, and a loop is used to iteratively update the guess until the difference between consecutive guesses is less than the tolerance. Finally, the function returns the final guess as the square root of (n).\n",
    "\n",
    "    References:\n",
    "    * Information about Newton's Method for square root in document on [Massachusetts Institute of Technology Department of Mathematics website](https://math.mit.edu/~stevenj/18.335/newton-sqrt.pdf).\n",
    "    * More about Newton's Method of squere root on [The University of Texas at Austin website](https://web.ma.utexas.edu/users/m408n/CurrentWeb/LM4-8-4.php).\n",
    "    * Very important movie to understand squareroot calculation on [Dubious Insights YouTube channel](https://www.youtube.com/watch?v=FpOEx6zFf1o). \n",
    "\n",
    "\n"
   ]
  }
 ],
 "metadata": {
  "language_info": {
   "name": "python"
  }
 },
 "nbformat": 4,
 "nbformat_minor": 2
}
